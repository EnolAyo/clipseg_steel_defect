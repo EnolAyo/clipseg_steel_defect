{
 "cells": [
  {
   "cell_type": "code",
   "id": "initial_id",
   "metadata": {
    "collapsed": true,
    "ExecuteTime": {
     "end_time": "2024-05-07T08:57:23.057300Z",
     "start_time": "2024-05-07T08:57:08.901980Z"
    }
   },
   "source": [
    "!pip install -Uqqq pycocotools\n",
    "!pip install tqdm\n",
    "!pip install opencv-python\n",
    "!pip install scikit-image\n",
    "!pip install scikit-learn"
   ],
   "outputs": [
    {
     "name": "stdout",
     "output_type": "stream",
     "text": [
      "Requirement already satisfied: tqdm in /home/eas/miniconda3/envs/clipseg-environment/lib/python3.12/site-packages (4.66.2)\r\n",
      "Requirement already satisfied: opencv-python in /home/eas/miniconda3/envs/clipseg-environment/lib/python3.12/site-packages (4.9.0.80)\r\n",
      "Requirement already satisfied: numpy>=1.21.2 in /home/eas/miniconda3/envs/clipseg-environment/lib/python3.12/site-packages (from opencv-python) (1.26.4)\r\n",
      "Requirement already satisfied: scikit-image in /home/eas/miniconda3/envs/clipseg-environment/lib/python3.12/site-packages (0.23.2)\r\n",
      "Requirement already satisfied: numpy>=1.23 in /home/eas/miniconda3/envs/clipseg-environment/lib/python3.12/site-packages (from scikit-image) (1.26.4)\r\n",
      "Requirement already satisfied: scipy>=1.9 in /home/eas/miniconda3/envs/clipseg-environment/lib/python3.12/site-packages (from scikit-image) (1.13.0)\r\n",
      "Requirement already satisfied: networkx>=2.8 in /home/eas/miniconda3/envs/clipseg-environment/lib/python3.12/site-packages (from scikit-image) (3.3)\r\n",
      "Requirement already satisfied: pillow>=9.1 in /home/eas/miniconda3/envs/clipseg-environment/lib/python3.12/site-packages (from scikit-image) (10.3.0)\r\n",
      "Requirement already satisfied: imageio>=2.33 in /home/eas/miniconda3/envs/clipseg-environment/lib/python3.12/site-packages (from scikit-image) (2.34.1)\r\n",
      "Requirement already satisfied: tifffile>=2022.8.12 in /home/eas/miniconda3/envs/clipseg-environment/lib/python3.12/site-packages (from scikit-image) (2024.5.3)\r\n",
      "Requirement already satisfied: packaging>=21 in /home/eas/miniconda3/envs/clipseg-environment/lib/python3.12/site-packages (from scikit-image) (24.0)\r\n",
      "Requirement already satisfied: lazy-loader>=0.4 in /home/eas/miniconda3/envs/clipseg-environment/lib/python3.12/site-packages (from scikit-image) (0.4)\r\n",
      "Collecting scikit-learn\r\n",
      "  Downloading scikit_learn-1.4.2-cp312-cp312-manylinux_2_17_x86_64.manylinux2014_x86_64.whl.metadata (11 kB)\r\n",
      "Requirement already satisfied: numpy>=1.19.5 in /home/eas/miniconda3/envs/clipseg-environment/lib/python3.12/site-packages (from scikit-learn) (1.26.4)\r\n",
      "Requirement already satisfied: scipy>=1.6.0 in /home/eas/miniconda3/envs/clipseg-environment/lib/python3.12/site-packages (from scikit-learn) (1.13.0)\r\n",
      "Collecting joblib>=1.2.0 (from scikit-learn)\r\n",
      "  Downloading joblib-1.4.2-py3-none-any.whl.metadata (5.4 kB)\r\n",
      "Collecting threadpoolctl>=2.0.0 (from scikit-learn)\r\n",
      "  Downloading threadpoolctl-3.5.0-py3-none-any.whl.metadata (13 kB)\r\n",
      "Downloading scikit_learn-1.4.2-cp312-cp312-manylinux_2_17_x86_64.manylinux2014_x86_64.whl (12.2 MB)\r\n",
      "\u001B[2K   \u001B[90m━━━━━━━━━━━━━━━━━━━━━━━━━━━━━━━━━━━━━━━━\u001B[0m \u001B[32m12.2/12.2 MB\u001B[0m \u001B[31m10.3 MB/s\u001B[0m eta \u001B[36m0:00:00\u001B[0m00:01\u001B[0m00:01\u001B[0m\r\n",
      "\u001B[?25hDownloading joblib-1.4.2-py3-none-any.whl (301 kB)\r\n",
      "\u001B[2K   \u001B[90m━━━━━━━━━━━━━━━━━━━━━━━━━━━━━━━━━━━━━━━━\u001B[0m \u001B[32m301.8/301.8 kB\u001B[0m \u001B[31m10.0 MB/s\u001B[0m eta \u001B[36m0:00:00\u001B[0m\r\n",
      "\u001B[?25hDownloading threadpoolctl-3.5.0-py3-none-any.whl (18 kB)\r\n",
      "Installing collected packages: threadpoolctl, joblib, scikit-learn\r\n",
      "Successfully installed joblib-1.4.2 scikit-learn-1.4.2 threadpoolctl-3.5.0\r\n"
     ]
    }
   ],
   "execution_count": 14
  },
  {
   "metadata": {
    "ExecuteTime": {
     "end_time": "2024-05-08T08:44:36.701317Z",
     "start_time": "2024-05-08T08:44:35.755525Z"
    }
   },
   "cell_type": "code",
   "source": [
    "import cv2\n",
    "import itertools\n",
    "import json\n",
    "import matplotlib.pyplot as plt\n",
    "import numpy as np\n",
    "import os\n",
    "import pandas as pd\n",
    "import random\n",
    "from pycocotools.coco import COCO\n",
    "\n",
    "from pathlib import Path\n",
    "from PIL import Image\n",
    "\n",
    "from itertools import groupby\n",
    "from skimage import io\n",
    "from sklearn.model_selection import train_test_split\n",
    "from tqdm import tqdm\n",
    "\n",
    "import pycocotools.mask as mask_util"
   ],
   "id": "2c2237b02c666634",
   "outputs": [],
   "execution_count": 1
  },
  {
   "metadata": {
    "ExecuteTime": {
     "end_time": "2024-05-08T10:56:06.521565Z",
     "start_time": "2024-05-08T10:56:06.382292Z"
    }
   },
   "cell_type": "code",
   "source": [
    "df = pd.read_csv('/home/eas/Enol/pycharm_projects/clipseg_steel_defect/Severstal/train.csv')\n",
    "df.head()"
   ],
   "id": "8e801ef6ee1b9fda",
   "outputs": [
    {
     "data": {
      "text/plain": [
       "         ImageId  ClassId                                      EncodedPixels\n",
       "0  0002cc93b.jpg        1  29102 12 29346 24 29602 24 29858 24 30114 24 3...\n",
       "1  0007a71bf.jpg        3  18661 28 18863 82 19091 110 19347 110 19603 11...\n",
       "2  000a4bcdd.jpg        1  37607 3 37858 8 38108 14 38359 20 38610 25 388...\n",
       "3  000f6bf48.jpg        4  131973 1 132228 4 132483 6 132738 8 132993 11 ...\n",
       "4  0014fce06.jpg        3  229501 11 229741 33 229981 55 230221 77 230468..."
      ],
      "text/html": [
       "<div>\n",
       "<style scoped>\n",
       "    .dataframe tbody tr th:only-of-type {\n",
       "        vertical-align: middle;\n",
       "    }\n",
       "\n",
       "    .dataframe tbody tr th {\n",
       "        vertical-align: top;\n",
       "    }\n",
       "\n",
       "    .dataframe thead th {\n",
       "        text-align: right;\n",
       "    }\n",
       "</style>\n",
       "<table border=\"1\" class=\"dataframe\">\n",
       "  <thead>\n",
       "    <tr style=\"text-align: right;\">\n",
       "      <th></th>\n",
       "      <th>ImageId</th>\n",
       "      <th>ClassId</th>\n",
       "      <th>EncodedPixels</th>\n",
       "    </tr>\n",
       "  </thead>\n",
       "  <tbody>\n",
       "    <tr>\n",
       "      <th>0</th>\n",
       "      <td>0002cc93b.jpg</td>\n",
       "      <td>1</td>\n",
       "      <td>29102 12 29346 24 29602 24 29858 24 30114 24 3...</td>\n",
       "    </tr>\n",
       "    <tr>\n",
       "      <th>1</th>\n",
       "      <td>0007a71bf.jpg</td>\n",
       "      <td>3</td>\n",
       "      <td>18661 28 18863 82 19091 110 19347 110 19603 11...</td>\n",
       "    </tr>\n",
       "    <tr>\n",
       "      <th>2</th>\n",
       "      <td>000a4bcdd.jpg</td>\n",
       "      <td>1</td>\n",
       "      <td>37607 3 37858 8 38108 14 38359 20 38610 25 388...</td>\n",
       "    </tr>\n",
       "    <tr>\n",
       "      <th>3</th>\n",
       "      <td>000f6bf48.jpg</td>\n",
       "      <td>4</td>\n",
       "      <td>131973 1 132228 4 132483 6 132738 8 132993 11 ...</td>\n",
       "    </tr>\n",
       "    <tr>\n",
       "      <th>4</th>\n",
       "      <td>0014fce06.jpg</td>\n",
       "      <td>3</td>\n",
       "      <td>229501 11 229741 33 229981 55 230221 77 230468...</td>\n",
       "    </tr>\n",
       "  </tbody>\n",
       "</table>\n",
       "</div>"
      ]
     },
     "execution_count": 21,
     "metadata": {},
     "output_type": "execute_result"
    }
   ],
   "execution_count": 21
  },
  {
   "metadata": {
    "ExecuteTime": {
     "end_time": "2024-05-08T08:44:42.302667Z",
     "start_time": "2024-05-08T08:44:42.297947Z"
    }
   },
   "cell_type": "code",
   "source": [
    "def rle_decode(mask_rle, shape):\n",
    "    \"\"\"\n",
    "    Decodes run-length encoded segmentation mask string into 2d array\n",
    "\n",
    "    Parameters\n",
    "    ----------\n",
    "    :param rle_mask (str): Run-length encoded segmentation mask string.\n",
    "    :param shape (tuple): (height, width) of array to return\n",
    "    :return mask [numpy.ndarray of shape (height, width)]: Decoded 2d segmentation mask\n",
    "    \"\"\"\n",
    "    # Splits the RLE string into a list of string by whitespaces.\n",
    "    s = mask_rle.split()\n",
    "\n",
    "    # This creates two numpy arrays, one with the RLE starts and one with their respective lengths\n",
    "    starts, lengths = [np.asarray(x, dtype=int) for x in (s[0:][::2], s[1:][::2])]\n",
    "\n",
    "    # To obtain the end point we need to substract 1 to the length or start because the initial point counts.\n",
    "    starts -= 1\n",
    "    ends = starts + lengths\n",
    "\n",
    "    # Create a 1D array of size H*W of zeros\n",
    "    mask = np.zeros(shape[0]*shape[1], dtype=np.uint8)\n",
    "\n",
    "    # Fill this array with ones in the positions where there is a mask using the RLE information\n",
    "    for start, end in zip(starts, ends):\n",
    "        mask[start:end] = 1\n",
    "\n",
    "    # Reshape the 1D array into a 2D array so we can finally get the binary 2D mask.\n",
    "    mask = mask.reshape(shape)\n",
    "    return mask.T\n"
   ],
   "id": "6eb10826d59fb2fa",
   "outputs": [],
   "execution_count": 3
  },
  {
   "metadata": {
    "ExecuteTime": {
     "end_time": "2024-05-08T12:48:25.796510Z",
     "start_time": "2024-05-08T12:47:39.542879Z"
    }
   },
   "cell_type": "code",
   "source": [
    "import time\n",
    "height = 1600\n",
    "width = 256\n",
    "read_path = '/home/eas/Enol/pycharm_projects/clipseg_steel_defect/Severstal/train_images/'\n",
    "for idx in range(0, len(df)):\n",
    "    mk = rle_decode(df.iloc[idx]['EncodedPixels'], (height, width))\n",
    "    class_id = str(df.iloc[idx]['ClassId'])\n",
    "    image_id = str(df.iloc[idx]['ImageId'])[0:9]\n",
    "    contours, hierarchy = cv2.findContours(mk,cv2.RETR_TREE,cv2.CHAIN_APPROX_NONE)\n",
    "    file_name = read_path + image_id + '.jpg'\n",
    "    img = cv2.imread(file_name)\n",
    "    write_path = f'/home/eas/Enol/pycharm_projects/clipseg_steel_defect/Severstal/cropped_defects/{class_id}'\n",
    "    output_name = f'{image_id}_{class_id}.jpg'\n",
    "    if not os.path.exists(write_path):\n",
    "        os.makedirs(write_path)\n",
    "    for i, contour in enumerate(contours):\n",
    "        bbox = cv2.boundingRect(contour)\n",
    "        x = bbox[0]\n",
    "        y = bbox[1]\n",
    "        w = bbox[2]\n",
    "        h = bbox[3]\n",
    "        cropped_image = img[y:y+h, x:x+w, :]\n",
    "        cv2.imwrite(f'{write_path}/{output_name}', cropped_image)\n",
    "       \n",
    "    "
   ],
   "id": "c5b2f7d097c96d6",
   "outputs": [],
   "execution_count": 31
  }
 ],
 "metadata": {
  "kernelspec": {
   "display_name": "Python 3",
   "language": "python",
   "name": "python3"
  },
  "language_info": {
   "codemirror_mode": {
    "name": "ipython",
    "version": 2
   },
   "file_extension": ".py",
   "mimetype": "text/x-python",
   "name": "python",
   "nbconvert_exporter": "python",
   "pygments_lexer": "ipython2",
   "version": "2.7.6"
  }
 },
 "nbformat": 4,
 "nbformat_minor": 5
}
