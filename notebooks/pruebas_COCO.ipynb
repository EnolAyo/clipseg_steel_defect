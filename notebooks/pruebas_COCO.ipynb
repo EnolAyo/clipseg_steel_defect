{
 "cells": [
  {
   "metadata": {
    "ExecuteTime": {
     "end_time": "2024-10-31T16:39:36.223240Z",
     "start_time": "2024-10-31T16:39:35.964759Z"
    }
   },
   "cell_type": "code",
   "source": [
    "import numpy as np\n",
    "import pycocotools.mask as mask_util\n",
    "import random\n",
    "import pandas as pd"
   ],
   "id": "4c46ad1ee97a530",
   "outputs": [],
   "execution_count": 2
  },
  {
   "metadata": {
    "ExecuteTime": {
     "end_time": "2024-10-31T16:39:36.232200Z",
     "start_time": "2024-10-31T16:39:36.227897Z"
    }
   },
   "cell_type": "code",
   "source": [
    "def rle_decode(mask_rle, shape):\n",
    "    \"\"\"\n",
    "    Decodes run-length encoded segmentation mask string into 2d array\n",
    "\n",
    "    Parameters\n",
    "    ----------\n",
    "    :param rle_mask (str): Run-length encoded segmentation mask string.\n",
    "    :param shape (tuple): (height, width) of array to return\n",
    "    :return mask [numpy.ndarray of shape (height, width)]: Decoded 2d segmentation mask\n",
    "    \"\"\"\n",
    "    # Splits the RLE string into a list of string by whitespaces.\n",
    "    s = mask_rle.split()\n",
    "\n",
    "    # This creates two numpy arrays, one with the RLE starts and one with their respective lengths\n",
    "    starts, lengths = [np.asarray(x, dtype=int) for x in (s[0:][::2], s[1:][::2])]\n",
    "\n",
    "    # To obtain the end point we need to substract 1 to the length or start because the initial point counts.\n",
    "    starts -= 1\n",
    "    ends = starts + lengths\n",
    "\n",
    "    # Create a 1D array of size H*W of zeros\n",
    "    mask = np.zeros(shape[0]*shape[1], dtype=np.uint8)\n",
    "\n",
    "    # Fill this array with ones in the positions where there is a mask using the RLE information\n",
    "    for start, end in zip(starts, ends):\n",
    "        mask[start:end] = 1\n",
    "\n",
    "    # Reshape the 1D array into a 2D array so we can finally get the binary 2D mask.\n",
    "    mask = mask.reshape(shape)\n",
    "    return mask.T"
   ],
   "id": "3a4bd8b973d71d49",
   "outputs": [],
   "execution_count": 3
  },
  {
   "metadata": {
    "ExecuteTime": {
     "end_time": "2024-10-31T16:39:36.281745Z",
     "start_time": "2024-10-31T16:39:36.276822Z"
    }
   },
   "cell_type": "code",
   "source": [
    "def binary_mask_to_rle(binary_mask):\n",
    "    \"\"\"\n",
    "    Checkout: https://cocodataset.org/#format-results\n",
    "    :param mask [numpy.ndarray of shape (height, width)]: Decoded 2d segmentation mask\n",
    "\n",
    "    This function returns the following dictionary:\n",
    "    {\n",
    "        \"counts\": encoded mask suggested by the official COCO dataset webpage.\n",
    "        \"size\": the size of the input mask/image\n",
    "    }\n",
    "    \"\"\"\n",
    "    # Create dictionary for the segmentation key in the COCO dataset\n",
    "    rle = {'counts': [], 'size': list(binary_mask.shape)}\n",
    "    # We need to convert it to a Fortran array\n",
    "    binary_mask_fortran = np.asfortranarray(binary_mask)\n",
    "    # Encode the mask as specified by the official COCO format\n",
    "    encoded_mask = mask_util.encode(binary_mask_fortran)\n",
    "    # We must decode the byte encoded string or otherwise we cannot save it as a JSON file\n",
    "    rle[\"counts\"] = encoded_mask[\"counts\"].decode()\n",
    "    return rle"
   ],
   "id": "393f5c6c810e3487",
   "outputs": [],
   "execution_count": 4
  },
  {
   "metadata": {
    "ExecuteTime": {
     "end_time": "2024-10-31T16:39:36.649969Z",
     "start_time": "2024-10-31T16:39:36.326732Z"
    }
   },
   "cell_type": "code",
   "source": [
    "from pycocotools.coco import COCO\n",
    "import matplotlib.pyplot as plt\n",
    "from pathlib import Path\n",
    "from PIL import Image"
   ],
   "id": "50158fbebb4eac77",
   "outputs": [],
   "execution_count": 5
  },
  {
   "metadata": {
    "ExecuteTime": {
     "end_time": "2024-10-31T16:39:37.524976Z",
     "start_time": "2024-10-31T16:39:36.679388Z"
    }
   },
   "cell_type": "code",
   "source": [
    "coco = COCO(\"/home/eas/Enol/pycharm_projects/clipseg_steel_defect/Severstal/annotations_COCO.json\").anns\n",
    "dataDir=Path('/home/eas/Enol/pycharm_projects/clipseg_steel_defect/Severstal/train_subimages')"
   ],
   "id": "b61408ab5171f418",
   "outputs": [
    {
     "name": "stdout",
     "output_type": "stream",
     "text": [
      "loading annotations into memory...\n",
      "Done (t=0.73s)\n",
      "creating index...\n",
      "index created!\n"
     ]
    }
   ],
   "execution_count": 6
  },
  {
   "metadata": {
    "ExecuteTime": {
     "end_time": "2024-10-31T16:39:37.576088Z",
     "start_time": "2024-10-31T16:39:37.538714Z"
    }
   },
   "cell_type": "code",
   "source": [
    "random.seed(33)\n",
    "keys = list(coco.keys())\n",
    "random.shuffle(keys)"
   ],
   "id": "614a8379f1b27d52",
   "outputs": [],
   "execution_count": 7
  },
  {
   "metadata": {
    "ExecuteTime": {
     "end_time": "2024-10-31T16:39:37.611144Z",
     "start_time": "2024-10-31T16:39:37.593726Z"
    }
   },
   "cell_type": "code",
   "source": [
    "\n",
    "id_list = []\n",
    "for i in range(len(coco)):\n",
    "    id_list.append(coco[i]['image_id'])\n"
   ],
   "id": "2bea003e52c7ca09",
   "outputs": [],
   "execution_count": 8
  },
  {
   "metadata": {
    "ExecuteTime": {
     "end_time": "2024-10-31T16:39:37.677627Z",
     "start_time": "2024-10-31T16:39:37.641326Z"
    }
   },
   "cell_type": "code",
   "source": [
    "from collections import Counter\n",
    "\n",
    "def find_duplicates(lst):\n",
    "    counts = Counter(lst)\n",
    "    duplicates = [item for item, frequency in counts.items() if frequency > 1]\n",
    "    return duplicates\n",
    "\n",
    "# Example usage\n",
    "duplicates = find_duplicates(id_list)\n",
    "n_duplicates = len(duplicates)# Output: {1: 2, 3: 3, 8: 2}\n"
   ],
   "id": "d1d1ff691fdbc5e5",
   "outputs": [],
   "execution_count": 9
  },
  {
   "metadata": {
    "ExecuteTime": {
     "end_time": "2024-10-31T16:39:38.439622Z",
     "start_time": "2024-10-31T16:39:37.721937Z"
    }
   },
   "cell_type": "code",
   "source": "df = pd.read_csv('/home/eas/Enol/pycharm_projects/clipseg_steel_defect/Severstal/subimages.csv')",
   "id": "9b5e0906674c158f",
   "outputs": [],
   "execution_count": 10
  },
  {
   "metadata": {
    "ExecuteTime": {
     "end_time": "2024-10-31T16:39:38.470095Z",
     "start_time": "2024-10-31T16:39:38.459274Z"
    }
   },
   "cell_type": "code",
   "source": "df[df['ImageId'] == duplicates[8]]",
   "id": "b02454fb5b85f7be",
   "outputs": [
    {
     "data": {
      "text/plain": [
       "      Unnamed: 0          ImageId  ClassId  \\\n",
       "2225        2225  1fc012f23_6.jpg        3   \n",
       "2226        2226  1fc012f23_6.jpg        4   \n",
       "\n",
       "                                          EncodedPixels  \n",
       "2225  57089 8 57345 23 57601 38 57857 53 58113 68 58...  \n",
       "2226  151 64 406 64 662 63 917 64 1172 64 1428 63 16...  "
      ],
      "text/html": [
       "<div>\n",
       "<style scoped>\n",
       "    .dataframe tbody tr th:only-of-type {\n",
       "        vertical-align: middle;\n",
       "    }\n",
       "\n",
       "    .dataframe tbody tr th {\n",
       "        vertical-align: top;\n",
       "    }\n",
       "\n",
       "    .dataframe thead th {\n",
       "        text-align: right;\n",
       "    }\n",
       "</style>\n",
       "<table border=\"1\" class=\"dataframe\">\n",
       "  <thead>\n",
       "    <tr style=\"text-align: right;\">\n",
       "      <th></th>\n",
       "      <th>Unnamed: 0</th>\n",
       "      <th>ImageId</th>\n",
       "      <th>ClassId</th>\n",
       "      <th>EncodedPixels</th>\n",
       "    </tr>\n",
       "  </thead>\n",
       "  <tbody>\n",
       "    <tr>\n",
       "      <th>2225</th>\n",
       "      <td>2225</td>\n",
       "      <td>1fc012f23_6.jpg</td>\n",
       "      <td>3</td>\n",
       "      <td>57089 8 57345 23 57601 38 57857 53 58113 68 58...</td>\n",
       "    </tr>\n",
       "    <tr>\n",
       "      <th>2226</th>\n",
       "      <td>2226</td>\n",
       "      <td>1fc012f23_6.jpg</td>\n",
       "      <td>4</td>\n",
       "      <td>151 64 406 64 662 63 917 64 1172 64 1428 63 16...</td>\n",
       "    </tr>\n",
       "  </tbody>\n",
       "</table>\n",
       "</div>"
      ]
     },
     "execution_count": 11,
     "metadata": {},
     "output_type": "execute_result"
    }
   ],
   "execution_count": 11
  },
  {
   "metadata": {
    "ExecuteTime": {
     "end_time": "2024-10-31T16:39:39.657981Z",
     "start_time": "2024-10-31T16:39:38.543503Z"
    }
   },
   "cell_type": "code",
   "source": "coco = COCO(f\"/home/eas/Enol/pycharm_projects/clipseg_steel_defect/Severstal/annotations_COCO.json\")",
   "id": "80d3d809608e7180",
   "outputs": [
    {
     "name": "stdout",
     "output_type": "stream",
     "text": [
      "loading annotations into memory...\n",
      "Done (t=0.84s)\n",
      "creating index...\n",
      "index created!\n"
     ]
    }
   ],
   "execution_count": 12
  },
  {
   "metadata": {
    "ExecuteTime": {
     "end_time": "2024-10-31T16:39:39.711303Z",
     "start_time": "2024-10-31T16:39:39.702518Z"
    }
   },
   "cell_type": "code",
   "source": "keys = (1, 4, 5 ,6)",
   "id": "cde0917564eb2f98",
   "outputs": [],
   "execution_count": 13
  },
  {
   "metadata": {
    "ExecuteTime": {
     "end_time": "2024-10-31T16:39:39.757621Z",
     "start_time": "2024-10-31T16:39:39.749701Z"
    }
   },
   "cell_type": "code",
   "source": "[coco.anns[i] for i in keys]",
   "id": "63e77179be1f0a52",
   "outputs": [
    {
     "data": {
      "text/plain": [
       "[{'segmentation': {'counts': 'PPP2', 'size': [256, 256]},\n",
       "  'bbox': [None, None, None, None],\n",
       "  'area': None,\n",
       "  'image_id': '4895e51ff_4.jpg',\n",
       "  'category_id': 5,\n",
       "  'iscrowd': 0,\n",
       "  'id': 1},\n",
       " {'segmentation': {'counts': 'PPP2', 'size': [256, 256]},\n",
       "  'bbox': [None, None, None, None],\n",
       "  'area': None,\n",
       "  'image_id': '24b29d740_6.jpg',\n",
       "  'category_id': 5,\n",
       "  'iscrowd': 0,\n",
       "  'id': 4},\n",
       " {'segmentation': {'counts': 'PPP2', 'size': [256, 256]},\n",
       "  'bbox': [None, None, None, None],\n",
       "  'area': None,\n",
       "  'image_id': '37f331c96_3.jpg',\n",
       "  'category_id': 5,\n",
       "  'iscrowd': 0,\n",
       "  'id': 5},\n",
       " {'segmentation': {'counts': 'Q]g09V7a0_Oa0_O`0H90000000O010000000O10000K5F9H9F:F:G9FWmR1',\n",
       "   'size': [256, 256]},\n",
       "  'bbox': [93, 99, 23, 71],\n",
       "  'area': 1185,\n",
       "  'image_id': '3da2c3982_6.jpg',\n",
       "  'category_id': 1,\n",
       "  'iscrowd': 0,\n",
       "  'id': 6}]"
      ]
     },
     "execution_count": 14,
     "metadata": {},
     "output_type": "execute_result"
    }
   ],
   "execution_count": 14
  },
  {
   "metadata": {
    "ExecuteTime": {
     "end_time": "2024-10-31T16:39:39.882713Z",
     "start_time": "2024-10-31T16:39:39.814768Z"
    }
   },
   "cell_type": "code",
   "source": "[indexed_dict[i] for i in indices]",
   "id": "5c61b67307f2f042",
   "outputs": [
    {
     "ename": "NameError",
     "evalue": "name 'indices' is not defined",
     "output_type": "error",
     "traceback": [
      "\u001B[0;31m---------------------------------------------------------------------------\u001B[0m",
      "\u001B[0;31mNameError\u001B[0m                                 Traceback (most recent call last)",
      "Cell \u001B[0;32mIn[15], line 1\u001B[0m\n\u001B[0;32m----> 1\u001B[0m [indexed_dict[i] \u001B[38;5;28;01mfor\u001B[39;00m i \u001B[38;5;129;01min\u001B[39;00m \u001B[43mindices\u001B[49m]\n",
      "\u001B[0;31mNameError\u001B[0m: name 'indices' is not defined"
     ]
    }
   ],
   "execution_count": 15
  },
  {
   "metadata": {},
   "cell_type": "code",
   "outputs": [],
   "execution_count": null,
   "source": "",
   "id": "e1d610d41a986a78"
  }
 ],
 "metadata": {
  "kernelspec": {
   "display_name": "Python 3",
   "language": "python",
   "name": "python3"
  },
  "language_info": {
   "codemirror_mode": {
    "name": "ipython",
    "version": 2
   },
   "file_extension": ".py",
   "mimetype": "text/x-python",
   "name": "python",
   "nbconvert_exporter": "python",
   "pygments_lexer": "ipython2",
   "version": "2.7.6"
  }
 },
 "nbformat": 4,
 "nbformat_minor": 5
}
