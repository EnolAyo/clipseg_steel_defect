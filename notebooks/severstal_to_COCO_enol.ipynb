{
 "cells": [
  {
   "cell_type": "code",
   "id": "initial_id",
   "metadata": {
    "collapsed": true,
    "ExecuteTime": {
     "end_time": "2025-05-28T10:47:23.494831Z",
     "start_time": "2025-05-28T10:47:23.262029Z"
    }
   },
   "source": [
    "import json\n",
    "import numpy as np\n",
    "import pandas as pd\n",
    "from tqdm import tqdm\n",
    "import pycocotools.mask as mask_utils"
   ],
   "outputs": [],
   "execution_count": 1
  },
  {
   "metadata": {
    "ExecuteTime": {
     "end_time": "2025-05-28T10:47:23.509674Z",
     "start_time": "2025-05-28T10:47:23.505057Z"
    }
   },
   "cell_type": "code",
   "source": [
    "def rle_decode(mask_rle, shape):\n",
    "    \"\"\"\n",
    "    Decodes run-length encoded segmentation mask string into 2d array\n",
    "\n",
    "    Parameters\n",
    "    ----------\n",
    "    :param rle_mask (str): Run-length encoded segmentation mask string.\n",
    "    :param shape (tuple): (height, width) of array to return\n",
    "    :return mask [numpy.ndarray of shape (height, width)]: Decoded 2d segmentation mask\n",
    "    \"\"\"\n",
    "    # Splits the RLE string into a list of string by whitespaces.\n",
    "    s = mask_rle.split()\n",
    "\n",
    "    # This creates two numpy arrays, one with the RLE starts and one with their respective lengths\n",
    "    starts, lengths = [np.asarray(x, dtype=int) for x in (s[0:][::2], s[1:][::2])]\n",
    "\n",
    "    # To obtain the end point we need to substract 1 to the length or start because the initial point counts.\n",
    "    starts -= 1\n",
    "    ends = starts + lengths\n",
    "\n",
    "    # Create a 1D array of size H*W of zeros\n",
    "    mask = np.zeros(shape[0]*shape[1], dtype=np.uint8)\n",
    "\n",
    "    # Fill this array with ones in the positions where there is a mask using the RLE information\n",
    "    for start, end in zip(starts, ends):\n",
    "        mask[start:end] = 1\n",
    "\n",
    "    # Reshape the 1D array into a 2D array so we can finally get the binary 2D mask.\n",
    "    mask = mask.reshape(shape)\n",
    "    return mask.T"
   ],
   "id": "bed650c9184cb5b7",
   "outputs": [],
   "execution_count": 2
  },
  {
   "metadata": {
    "ExecuteTime": {
     "end_time": "2025-05-28T10:47:23.564528Z",
     "start_time": "2025-05-28T10:47:23.561306Z"
    }
   },
   "cell_type": "code",
   "source": [
    "def binary_mask_to_rle(binary_mask):\n",
    "    \"\"\"\n",
    "    Checkout: https://cocodataset.org/#format-results\n",
    "    :param mask [numpy.ndarray of shape (height, width)]: Decoded 2d segmentation mask\n",
    "\n",
    "    This function returns the following dictionary:\n",
    "    {\n",
    "        \"counts\": encoded mask suggested by the official COCO dataset webpage.\n",
    "        \"size\": the size of the input mask/image\n",
    "    }\n",
    "    \"\"\"\n",
    "    # Create dictionary for the segmentation key in the COCO dataset\n",
    "    rle = {'counts': [], 'size': list(binary_mask.shape)}\n",
    "    # We need to convert it to a Fortran array\n",
    "    binary_mask_fortran = np.asfortranarray(binary_mask)\n",
    "    # Encode the mask as specified by the official COCO format\n",
    "    encoded_mask = mask_utils.encode(binary_mask_fortran)\n",
    "    # We must decode the byte encoded string or otherwise we cannot save it as a JSON file\n",
    "    rle[\"counts\"] = encoded_mask[\"counts\"].decode()\n",
    "    return rle"
   ],
   "id": "6fc665afd8700968",
   "outputs": [],
   "execution_count": 3
  },
  {
   "metadata": {
    "ExecuteTime": {
     "end_time": "2025-05-28T10:47:23.629905Z",
     "start_time": "2025-05-28T10:47:23.619835Z"
    }
   },
   "cell_type": "code",
   "source": [
    "def generate_coco_from_df(df, image_height=256, image_width=256, include_background=True):\n",
    "    images = []\n",
    "    annotations = []\n",
    "    categories = [{'id': i+1, 'name': f'class_{i+1}'} for i in range(4)]\n",
    "\n",
    "    if include_background:\n",
    "        categories.append({'id': 0, 'name': 'no_object'})  # Class 5\n",
    "\n",
    "    ann_id = 1\n",
    "\n",
    "    for img_idx, row in tqdm(df.iterrows(), total=len(df), desc=\"Processing Images\", ncols=100):\n",
    "        filename = row['ImageId']\n",
    "        image_id = img_idx + 1\n",
    "\n",
    "        images.append({\n",
    "            'id': image_id,\n",
    "            'file_name': filename,\n",
    "            'height': image_height,\n",
    "            'width': image_width\n",
    "        })\n",
    "\n",
    "        has_annotation = False\n",
    "\n",
    "        for class_id in range(1, 5):\n",
    "            encoded = row.get(f'EncodedPixels{class_id}')\n",
    "            if pd.isna(encoded) or encoded == '':\n",
    "                continue\n",
    "\n",
    "            has_annotation = True\n",
    "            mask = rle_decode(encoded, shape=(image_height, image_width))\n",
    "            rle = mask_utils.encode(np.asfortranarray(mask))\n",
    "            rle[\"counts\"] = rle[\"counts\"].decode()\n",
    "            area = int(mask_utils.area(rle))\n",
    "            bbox = list(map(int, mask_utils.toBbox(rle)))\n",
    "\n",
    "            annotations.append({\n",
    "                'id': ann_id,\n",
    "                'image_id': image_id,\n",
    "                'category_id': class_id,\n",
    "                'segmentation': rle,\n",
    "                'area': area,\n",
    "                'bbox': bbox,\n",
    "                'iscrowd': 0\n",
    "            })\n",
    "            ann_id += 1\n",
    "\n",
    "        if not has_annotation and include_background:\n",
    "            full_mask = np.ones((image_height, image_width), dtype=np.uint8)\n",
    "            rle = mask_utils.encode(np.asfortranarray(full_mask))\n",
    "            rle[\"counts\"] = rle[\"counts\"].decode()\n",
    "            area = int(mask_utils.area(rle))\n",
    "            bbox = list(map(int, mask_utils.toBbox(rle)))\n",
    "            annotations.append({\n",
    "                'id': ann_id,\n",
    "                'image_id': image_id,\n",
    "                'category_id': 0,  # 'no_object'\n",
    "                'segmentation': rle,\n",
    "                'area': area,\n",
    "                'bbox': bbox,\n",
    "                'iscrowd': 0\n",
    "            })\n",
    "            ann_id += 1\n",
    "\n",
    "    return {\n",
    "        'images': images,\n",
    "        'annotations': annotations,\n",
    "        'categories': categories\n",
    "    }"
   ],
   "id": "485c17c6ae08facb",
   "outputs": [],
   "execution_count": 4
  },
  {
   "metadata": {
    "ExecuteTime": {
     "end_time": "2025-05-28T10:47:23.669947Z",
     "start_time": "2025-05-28T10:47:23.666678Z"
    }
   },
   "cell_type": "code",
   "source": [
    "height = 256\n",
    "width = 256\n",
    "data_path = '/home/eas/Enol/pycharm_projects/clipseg_steel_defect/Severstal/train_subimages'"
   ],
   "id": "93ea49a9ba0703c0",
   "outputs": [],
   "execution_count": 5
  },
  {
   "metadata": {
    "ExecuteTime": {
     "end_time": "2025-05-28T10:47:23.976044Z",
     "start_time": "2025-05-28T10:47:23.723893Z"
    }
   },
   "cell_type": "code",
   "source": [
    "df = pd.read_csv('/home/eas/Enol/pycharm_projects/clipseg_steel_defect/Severstal/subimages.csv', index_col=0)\n",
    "df.head()"
   ],
   "id": "ab1222482c34e04b",
   "outputs": [
    {
     "data": {
      "text/plain": [
       "                                             ImageId EncodedPixels1  \\\n",
       "0  /home/eas/Enol/pycharm_projects/clipseg_steel_...            NaN   \n",
       "1  /home/eas/Enol/pycharm_projects/clipseg_steel_...            NaN   \n",
       "2  /home/eas/Enol/pycharm_projects/clipseg_steel_...            NaN   \n",
       "3  /home/eas/Enol/pycharm_projects/clipseg_steel_...            NaN   \n",
       "4  /home/eas/Enol/pycharm_projects/clipseg_steel_...            NaN   \n",
       "\n",
       "  EncodedPixels2                 EncodedPixels3 EncodedPixels4  \n",
       "0            NaN                            NaN            NaN  \n",
       "1            NaN                            NaN            NaN  \n",
       "2            NaN                            NaN            NaN  \n",
       "3            NaN                            NaN            NaN  \n",
       "4            NaN  64001 64 64257 192 64513 1024            NaN  "
      ],
      "text/html": [
       "<div>\n",
       "<style scoped>\n",
       "    .dataframe tbody tr th:only-of-type {\n",
       "        vertical-align: middle;\n",
       "    }\n",
       "\n",
       "    .dataframe tbody tr th {\n",
       "        vertical-align: top;\n",
       "    }\n",
       "\n",
       "    .dataframe thead th {\n",
       "        text-align: right;\n",
       "    }\n",
       "</style>\n",
       "<table border=\"1\" class=\"dataframe\">\n",
       "  <thead>\n",
       "    <tr style=\"text-align: right;\">\n",
       "      <th></th>\n",
       "      <th>ImageId</th>\n",
       "      <th>EncodedPixels1</th>\n",
       "      <th>EncodedPixels2</th>\n",
       "      <th>EncodedPixels3</th>\n",
       "      <th>EncodedPixels4</th>\n",
       "    </tr>\n",
       "  </thead>\n",
       "  <tbody>\n",
       "    <tr>\n",
       "      <th>0</th>\n",
       "      <td>/home/eas/Enol/pycharm_projects/clipseg_steel_...</td>\n",
       "      <td>NaN</td>\n",
       "      <td>NaN</td>\n",
       "      <td>NaN</td>\n",
       "      <td>NaN</td>\n",
       "    </tr>\n",
       "    <tr>\n",
       "      <th>1</th>\n",
       "      <td>/home/eas/Enol/pycharm_projects/clipseg_steel_...</td>\n",
       "      <td>NaN</td>\n",
       "      <td>NaN</td>\n",
       "      <td>NaN</td>\n",
       "      <td>NaN</td>\n",
       "    </tr>\n",
       "    <tr>\n",
       "      <th>2</th>\n",
       "      <td>/home/eas/Enol/pycharm_projects/clipseg_steel_...</td>\n",
       "      <td>NaN</td>\n",
       "      <td>NaN</td>\n",
       "      <td>NaN</td>\n",
       "      <td>NaN</td>\n",
       "    </tr>\n",
       "    <tr>\n",
       "      <th>3</th>\n",
       "      <td>/home/eas/Enol/pycharm_projects/clipseg_steel_...</td>\n",
       "      <td>NaN</td>\n",
       "      <td>NaN</td>\n",
       "      <td>NaN</td>\n",
       "      <td>NaN</td>\n",
       "    </tr>\n",
       "    <tr>\n",
       "      <th>4</th>\n",
       "      <td>/home/eas/Enol/pycharm_projects/clipseg_steel_...</td>\n",
       "      <td>NaN</td>\n",
       "      <td>NaN</td>\n",
       "      <td>64001 64 64257 192 64513 1024</td>\n",
       "      <td>NaN</td>\n",
       "    </tr>\n",
       "  </tbody>\n",
       "</table>\n",
       "</div>"
      ]
     },
     "execution_count": 6,
     "metadata": {},
     "output_type": "execute_result"
    }
   ],
   "execution_count": 6
  },
  {
   "metadata": {
    "ExecuteTime": {
     "end_time": "2025-05-28T10:47:39.482333Z",
     "start_time": "2025-05-28T10:47:23.994041Z"
    }
   },
   "cell_type": "code",
   "source": "COCO_json = generate_coco_from_df(df, height, width, include_background=True)",
   "id": "3d04691a2578bb96",
   "outputs": [
    {
     "name": "stderr",
     "output_type": "stream",
     "text": [
      "Processing Images: 100%|████████████████████████████████████| 84946/84946 [00:15<00:00, 5487.72it/s]\n"
     ]
    }
   ],
   "execution_count": 7
  },
  {
   "metadata": {
    "ExecuteTime": {
     "end_time": "2025-05-28T10:47:41.359386Z",
     "start_time": "2025-05-28T10:47:39.508129Z"
    }
   },
   "cell_type": "code",
   "source": [
    "with open('/home/eas/Enol/pycharm_projects/clipseg_steel_defect/Severstal/annotations_COCO.json', 'w') as f:\n",
    "    json.dump(COCO_json, f)"
   ],
   "id": "ba8fef62360c26b6",
   "outputs": [],
   "execution_count": 8
  },
  {
   "metadata": {
    "ExecuteTime": {
     "end_time": "2025-05-28T10:47:41.388702Z",
     "start_time": "2025-05-28T10:47:41.386927Z"
    }
   },
   "cell_type": "code",
   "source": "",
   "id": "13c9f523e5ebcb1e",
   "outputs": [],
   "execution_count": null
  }
 ],
 "metadata": {
  "kernelspec": {
   "display_name": "Python 3",
   "language": "python",
   "name": "python3"
  },
  "language_info": {
   "codemirror_mode": {
    "name": "ipython",
    "version": 2
   },
   "file_extension": ".py",
   "mimetype": "text/x-python",
   "name": "python",
   "nbconvert_exporter": "python",
   "pygments_lexer": "ipython2",
   "version": "2.7.6"
  }
 },
 "nbformat": 4,
 "nbformat_minor": 5
}
