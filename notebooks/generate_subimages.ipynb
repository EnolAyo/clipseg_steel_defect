{
 "cells": [
  {
   "cell_type": "code",
   "id": "initial_id",
   "metadata": {
    "collapsed": true,
    "ExecuteTime": {
     "end_time": "2025-04-09T07:39:06.705154Z",
     "start_time": "2025-04-09T07:39:06.097270Z"
    }
   },
   "source": [
    "import cv2\n",
    "import numpy as np\n",
    "import os\n",
    "import pandas as pd\n",
    "from matplotlib import pyplot as plt"
   ],
   "outputs": [],
   "execution_count": 2
  },
  {
   "metadata": {
    "ExecuteTime": {
     "end_time": "2025-04-09T07:39:07.822265Z",
     "start_time": "2025-04-09T07:39:07.641777Z"
    }
   },
   "cell_type": "code",
   "source": [
    "df = pd.read_csv('/home/eas/Enol/pycharm_projects/clipseg_steel_defect/Severstal/train.csv')\n",
    "df.head()\n"
   ],
   "id": "bbad0f43bf45db84",
   "outputs": [
    {
     "data": {
      "text/plain": [
       "         ImageId  ClassId                                      EncodedPixels\n",
       "0  0002cc93b.jpg        1  29102 12 29346 24 29602 24 29858 24 30114 24 3...\n",
       "1  0007a71bf.jpg        3  18661 28 18863 82 19091 110 19347 110 19603 11...\n",
       "2  000a4bcdd.jpg        1  37607 3 37858 8 38108 14 38359 20 38610 25 388...\n",
       "3  000f6bf48.jpg        4  131973 1 132228 4 132483 6 132738 8 132993 11 ...\n",
       "4  0014fce06.jpg        3  229501 11 229741 33 229981 55 230221 77 230468..."
      ],
      "text/html": [
       "<div>\n",
       "<style scoped>\n",
       "    .dataframe tbody tr th:only-of-type {\n",
       "        vertical-align: middle;\n",
       "    }\n",
       "\n",
       "    .dataframe tbody tr th {\n",
       "        vertical-align: top;\n",
       "    }\n",
       "\n",
       "    .dataframe thead th {\n",
       "        text-align: right;\n",
       "    }\n",
       "</style>\n",
       "<table border=\"1\" class=\"dataframe\">\n",
       "  <thead>\n",
       "    <tr style=\"text-align: right;\">\n",
       "      <th></th>\n",
       "      <th>ImageId</th>\n",
       "      <th>ClassId</th>\n",
       "      <th>EncodedPixels</th>\n",
       "    </tr>\n",
       "  </thead>\n",
       "  <tbody>\n",
       "    <tr>\n",
       "      <th>0</th>\n",
       "      <td>0002cc93b.jpg</td>\n",
       "      <td>1</td>\n",
       "      <td>29102 12 29346 24 29602 24 29858 24 30114 24 3...</td>\n",
       "    </tr>\n",
       "    <tr>\n",
       "      <th>1</th>\n",
       "      <td>0007a71bf.jpg</td>\n",
       "      <td>3</td>\n",
       "      <td>18661 28 18863 82 19091 110 19347 110 19603 11...</td>\n",
       "    </tr>\n",
       "    <tr>\n",
       "      <th>2</th>\n",
       "      <td>000a4bcdd.jpg</td>\n",
       "      <td>1</td>\n",
       "      <td>37607 3 37858 8 38108 14 38359 20 38610 25 388...</td>\n",
       "    </tr>\n",
       "    <tr>\n",
       "      <th>3</th>\n",
       "      <td>000f6bf48.jpg</td>\n",
       "      <td>4</td>\n",
       "      <td>131973 1 132228 4 132483 6 132738 8 132993 11 ...</td>\n",
       "    </tr>\n",
       "    <tr>\n",
       "      <th>4</th>\n",
       "      <td>0014fce06.jpg</td>\n",
       "      <td>3</td>\n",
       "      <td>229501 11 229741 33 229981 55 230221 77 230468...</td>\n",
       "    </tr>\n",
       "  </tbody>\n",
       "</table>\n",
       "</div>"
      ]
     },
     "execution_count": 3,
     "metadata": {},
     "output_type": "execute_result"
    }
   ],
   "execution_count": 3
  },
  {
   "metadata": {
    "ExecuteTime": {
     "end_time": "2025-04-09T07:44:42.038369Z",
     "start_time": "2025-04-09T07:44:42.032477Z"
    }
   },
   "cell_type": "code",
   "source": [
    "def rle_decode(mask_rle, shape):\n",
    "    \"\"\"\n",
    "    Decodes run-length encoded segmentation mask string into 2d array\n",
    "\n",
    "    Parameters\n",
    "    ----------\n",
    "    :param rle_mask (str): Run-length encoded segmentation mask string.\n",
    "    :param shape (tuple): (height, width) of array to return\n",
    "    :return mask [numpy.ndarray of shape (height, width)]: Decoded 2d segmentation mask\n",
    "    \"\"\"\n",
    "    # Splits the RLE string into a list of string by whitespaces.\n",
    "    s = mask_rle.split()\n",
    "\n",
    "    # This creates two numpy arrays, one with the RLE starts and one with their respective lengths\n",
    "    starts, lengths = [np.asarray(x, dtype=int) for x in (s[0:][::2], s[1:][::2])]\n",
    "\n",
    "    # To obtain the end point we need to substract 1 to the length or start because the initial point counts.\n",
    "    starts -= 1\n",
    "    ends = starts + lengths\n",
    "\n",
    "    # Create a 1D array of size H*W of zeros\n",
    "    mask = np.zeros(shape[0]*shape[1], dtype=np.uint8)\n",
    "\n",
    "    # Fill this array with ones in the positions where there is a mask using the RLE information\n",
    "    for start, end in zip(starts, ends):\n",
    "        mask[start:end] = 1\n",
    "\n",
    "    # Reshape the 1D array into a 2D array so we can finally get the binary 2D mask.\n",
    "    mask = mask.reshape(shape)\n",
    "    return mask.T\n",
    "\n"
   ],
   "id": "6c8e58608dbb08f4",
   "outputs": [],
   "execution_count": 12
  },
  {
   "metadata": {
    "ExecuteTime": {
     "end_time": "2025-04-09T07:44:43.164963Z",
     "start_time": "2025-04-09T07:44:43.160841Z"
    }
   },
   "cell_type": "code",
   "source": [
    "def rle_encode(binary_matrix: np.ndarray) -> str:\n",
    "    array = binary_matrix.T.flatten()\n",
    "    counting = False\n",
    "    length = 0\n",
    "    rle_code = []\n",
    "    for pos, val in enumerate(array):\n",
    "        if val == 1 and not counting:\n",
    "            counting = True\n",
    "            rle_code.append(str(pos + 1))\n",
    "            length += 1\n",
    "        elif val == 1 and counting:\n",
    "            length += 1\n",
    "        elif val == 0 and counting:\n",
    "            counting = False\n",
    "            rle_code.append(str(length))\n",
    "            length = 0\n",
    "    if counting:\n",
    "        rle_code.append(str(length))\n",
    "    return ' '.join(rle_code)"
   ],
   "id": "db4d5859cc1a092e",
   "outputs": [],
   "execution_count": 13
  },
  {
   "metadata": {
    "ExecuteTime": {
     "end_time": "2025-04-09T07:44:44.947972Z",
     "start_time": "2025-04-09T07:44:44.943801Z"
    }
   },
   "cell_type": "code",
   "source": [
    "height = 1600\n",
    "width = 256\n",
    "read_path = '/home/eas/Enol/pycharm_projects/clipseg_steel_defect/Severstal/train_images/'\n",
    "write_path = '/home/eas/Enol/pycharm_projects/clipseg_steel_defect/Severstal/train_subimages/'\n",
    "new_df = pd.DataFrame(columns=['ImageId', 'EncodedPixels1', 'EncodedPixels2', 'EncodedPixels3', 'EncodedPixels4'])"
   ],
   "id": "c9c18d0da7b0b07f",
   "outputs": [],
   "execution_count": 14
  },
  {
   "metadata": {
    "ExecuteTime": {
     "end_time": "2025-04-08T12:35:53.362605Z",
     "start_time": "2025-04-08T11:58:31.930143Z"
    }
   },
   "cell_type": "code",
   "source": [
    "## Generate subimages and annotations\n",
    "for filename in os.listdir(read_path):\n",
    "    image = cv2.imread(read_path + filename)\n",
    "    n_block = 1\n",
    "    \n",
    "    anns = df[df['ImageId'] == filename]\n",
    "    #Subimages\n",
    "    for x in range(0, 1600, 256):\n",
    "        if n_block == 7:\n",
    "            block = image[:, -256:] \n",
    "        else:\n",
    "            block = image[:, x:x+256]\n",
    "        new_filename = write_path + filename[0:9] + f'_{n_block}' + '.png'\n",
    "        new_entry = {'ImageId': new_filename, \n",
    "                     'EncodedPixels1': '', \n",
    "                     'EncodedPixels2': '', \n",
    "                     'EncodedPixels3': '', \n",
    "                     'EncodedPixels4': ''}\n",
    "        new_df = pd.concat([new_df, pd.DataFrame([new_entry])], ignore_index=True)\n",
    "        for _, ann in anns.iterrows():\n",
    "            mask = rle_decode(ann['EncodedPixels'], (height, width))\n",
    "            mask_block = mask[:, -256:] if n_block == 7 else mask[:, x:x+256]\n",
    "            class_id = ann['ClassId']\n",
    "            new_df.loc[new_df['ImageId'] == new_filename, f'EncodedPixels{class_id}'] = rle_encode(mask_block)\n",
    "        plt.imsave(new_filename, block)\n",
    "        n_block += 1\n",
    "    \n",
    "    \n",
    "    "
   ],
   "id": "16880d2c7502869d",
   "outputs": [],
   "execution_count": 34
  },
  {
   "metadata": {
    "ExecuteTime": {
     "end_time": "2025-04-08T12:35:53.870515Z",
     "start_time": "2025-04-08T12:35:53.372170Z"
    }
   },
   "cell_type": "code",
   "source": "new_df.to_csv('/home/eas/Enol/pycharm_projects/clipseg_steel_defect/Severstal/subimages.csv')",
   "id": "d726ade45ef1e4b9",
   "outputs": [],
   "execution_count": 35
  }
 ],
 "metadata": {
  "kernelspec": {
   "display_name": "Python 3",
   "language": "python",
   "name": "python3"
  },
  "language_info": {
   "codemirror_mode": {
    "name": "ipython",
    "version": 2
   },
   "file_extension": ".py",
   "mimetype": "text/x-python",
   "name": "python",
   "nbconvert_exporter": "python",
   "pygments_lexer": "ipython2",
   "version": "2.7.6"
  }
 },
 "nbformat": 4,
 "nbformat_minor": 5
}
