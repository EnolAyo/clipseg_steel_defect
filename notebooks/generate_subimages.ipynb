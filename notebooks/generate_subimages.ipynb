{
 "cells": [
  {
   "cell_type": "code",
   "id": "initial_id",
   "metadata": {
    "collapsed": true,
    "ExecuteTime": {
     "end_time": "2025-01-16T17:53:45.487527Z",
     "start_time": "2025-01-16T17:53:44.739386Z"
    }
   },
   "source": [
    "import time\n",
    "\n",
    "import cv2\n",
    "import itertools\n",
    "import json\n",
    "import matplotlib.pyplot as plt\n",
    "import numpy as np\n",
    "import os\n",
    "import pandas as pd\n",
    "import random\n",
    "from pycocotools.coco import COCO\n",
    "from matplotlib import pyplot as plt\n",
    "from pathlib import Path\n",
    "from PIL import Image\n",
    "\n",
    "from itertools import groupby\n",
    "from skimage import io\n",
    "from tqdm import tqdm\n",
    "\n",
    "import pycocotools.mask as mask_util"
   ],
   "outputs": [],
   "execution_count": 1
  },
  {
   "metadata": {
    "ExecuteTime": {
     "end_time": "2025-01-16T17:53:45.693650Z",
     "start_time": "2025-01-16T17:53:45.500429Z"
    }
   },
   "cell_type": "code",
   "source": [
    "df = pd.read_csv('/home/eas/Enol/pycharm_projects/clipseg_steel_defect/Severstal/train.csv')\n",
    "df.head()\n"
   ],
   "id": "bbad0f43bf45db84",
   "outputs": [
    {
     "data": {
      "text/plain": [
       "         ImageId  ClassId                                      EncodedPixels\n",
       "0  0002cc93b.jpg        1  29102 12 29346 24 29602 24 29858 24 30114 24 3...\n",
       "1  0007a71bf.jpg        3  18661 28 18863 82 19091 110 19347 110 19603 11...\n",
       "2  000a4bcdd.jpg        1  37607 3 37858 8 38108 14 38359 20 38610 25 388...\n",
       "3  000f6bf48.jpg        4  131973 1 132228 4 132483 6 132738 8 132993 11 ...\n",
       "4  0014fce06.jpg        3  229501 11 229741 33 229981 55 230221 77 230468..."
      ],
      "text/html": [
       "<div>\n",
       "<style scoped>\n",
       "    .dataframe tbody tr th:only-of-type {\n",
       "        vertical-align: middle;\n",
       "    }\n",
       "\n",
       "    .dataframe tbody tr th {\n",
       "        vertical-align: top;\n",
       "    }\n",
       "\n",
       "    .dataframe thead th {\n",
       "        text-align: right;\n",
       "    }\n",
       "</style>\n",
       "<table border=\"1\" class=\"dataframe\">\n",
       "  <thead>\n",
       "    <tr style=\"text-align: right;\">\n",
       "      <th></th>\n",
       "      <th>ImageId</th>\n",
       "      <th>ClassId</th>\n",
       "      <th>EncodedPixels</th>\n",
       "    </tr>\n",
       "  </thead>\n",
       "  <tbody>\n",
       "    <tr>\n",
       "      <th>0</th>\n",
       "      <td>0002cc93b.jpg</td>\n",
       "      <td>1</td>\n",
       "      <td>29102 12 29346 24 29602 24 29858 24 30114 24 3...</td>\n",
       "    </tr>\n",
       "    <tr>\n",
       "      <th>1</th>\n",
       "      <td>0007a71bf.jpg</td>\n",
       "      <td>3</td>\n",
       "      <td>18661 28 18863 82 19091 110 19347 110 19603 11...</td>\n",
       "    </tr>\n",
       "    <tr>\n",
       "      <th>2</th>\n",
       "      <td>000a4bcdd.jpg</td>\n",
       "      <td>1</td>\n",
       "      <td>37607 3 37858 8 38108 14 38359 20 38610 25 388...</td>\n",
       "    </tr>\n",
       "    <tr>\n",
       "      <th>3</th>\n",
       "      <td>000f6bf48.jpg</td>\n",
       "      <td>4</td>\n",
       "      <td>131973 1 132228 4 132483 6 132738 8 132993 11 ...</td>\n",
       "    </tr>\n",
       "    <tr>\n",
       "      <th>4</th>\n",
       "      <td>0014fce06.jpg</td>\n",
       "      <td>3</td>\n",
       "      <td>229501 11 229741 33 229981 55 230221 77 230468...</td>\n",
       "    </tr>\n",
       "  </tbody>\n",
       "</table>\n",
       "</div>"
      ]
     },
     "execution_count": 2,
     "metadata": {},
     "output_type": "execute_result"
    }
   ],
   "execution_count": 2
  },
  {
   "metadata": {
    "ExecuteTime": {
     "end_time": "2025-01-16T17:53:45.763939Z",
     "start_time": "2025-01-16T17:53:45.759798Z"
    }
   },
   "cell_type": "code",
   "source": [
    "def rle_decode(mask_rle, shape):\n",
    "    \"\"\"\n",
    "    Decodes run-length encoded segmentation mask string into 2d array\n",
    "\n",
    "    Parameters\n",
    "    ----------\n",
    "    :param rle_mask (str): Run-length encoded segmentation mask string.\n",
    "    :param shape (tuple): (height, width) of array to return\n",
    "    :return mask [numpy.ndarray of shape (height, width)]: Decoded 2d segmentation mask\n",
    "    \"\"\"\n",
    "    # Splits the RLE string into a list of string by whitespaces.\n",
    "    s = mask_rle.split()\n",
    "\n",
    "    # This creates two numpy arrays, one with the RLE starts and one with their respective lengths\n",
    "    starts, lengths = [np.asarray(x, dtype=int) for x in (s[0:][::2], s[1:][::2])]\n",
    "\n",
    "    # To obtain the end point we need to substract 1 to the length or start because the initial point counts.\n",
    "    starts -= 1\n",
    "    ends = starts + lengths\n",
    "\n",
    "    # Create a 1D array of size H*W of zeros\n",
    "    mask = np.zeros(shape[0]*shape[1], dtype=np.uint8)\n",
    "\n",
    "    # Fill this array with ones in the positions where there is a mask using the RLE information\n",
    "    for start, end in zip(starts, ends):\n",
    "        mask[start:end] = 1\n",
    "\n",
    "    # Reshape the 1D array into a 2D array so we can finally get the binary 2D mask.\n",
    "    mask = mask.reshape(shape)\n",
    "    return mask.T\n",
    "\n"
   ],
   "id": "6c8e58608dbb08f4",
   "outputs": [],
   "execution_count": 3
  },
  {
   "metadata": {
    "ExecuteTime": {
     "end_time": "2025-01-16T17:53:45.804045Z",
     "start_time": "2025-01-16T17:53:45.800064Z"
    }
   },
   "cell_type": "code",
   "source": [
    "def rle_encode(binary_matrix):\n",
    "    array = binary_matrix.T.flatten()\n",
    "    counting = False\n",
    "    length = 0\n",
    "    rle_code = []\n",
    "    for pos, val in enumerate(array):\n",
    "        if val == 1 and not counting:\n",
    "            counting = True\n",
    "            rle_code.append(str(pos + 1))\n",
    "            length += 1\n",
    "        elif val == 1 and counting:\n",
    "            length += 1\n",
    "        elif val == 0 and counting:\n",
    "            counting = False\n",
    "            rle_code.append(str(length))\n",
    "            length = 0\n",
    "    if counting:\n",
    "        rle_code.append(str(length))\n",
    "    return ' '.join(rle_code)"
   ],
   "id": "db4d5859cc1a092e",
   "outputs": [],
   "execution_count": 4
  },
  {
   "metadata": {
    "ExecuteTime": {
     "end_time": "2025-01-16T17:53:45.850085Z",
     "start_time": "2025-01-16T17:53:45.845373Z"
    }
   },
   "cell_type": "code",
   "source": [
    "height = 1600\n",
    "width = 256\n",
    "read_path = '/home/eas/Enol/pycharm_projects/clipseg_steel_defect/Severstal/train_images/'\n",
    "write_path = '/home/eas/Enol/pycharm_projects/clipseg_steel_defect/Severstal/train_subimages/'\n",
    "new_df = pd.DataFrame(columns=['ImageId', 'ClassId', 'EncodedPixels'])\n",
    "new_df['ClassId'] = new_df['ClassId'].astype(np.int64)"
   ],
   "id": "c9c18d0da7b0b07f",
   "outputs": [],
   "execution_count": 5
  },
  {
   "metadata": {
    "ExecuteTime": {
     "end_time": "2025-01-16T18:16:55.997082Z",
     "start_time": "2025-01-16T17:53:45.886837Z"
    }
   },
   "cell_type": "code",
   "source": [
    "## Generate subimages\n",
    "for filename in os.listdir(read_path):\n",
    "    image = cv2.imread(read_path + filename)\n",
    "    image_rgb = cv2.cvtColor(image, cv2.COLOR_BGR2RGB)\n",
    "    n_block = 1\n",
    "    for x in range(0, 1600, 256):\n",
    "        if n_block == 7:\n",
    "            block = image_rgb[:, -256:, :]\n",
    "        else:\n",
    "            block = image_rgb[:, x:x+256, :]\n",
    "        new_filename = write_path + filename[0:9] + f'_{n_block}' + '.png'\n",
    "        plt.imsave(new_filename, block)\n",
    "        n_block += 1"
   ],
   "id": "16880d2c7502869d",
   "outputs": [],
   "execution_count": 6
  },
  {
   "metadata": {
    "ExecuteTime": {
     "end_time": "2025-01-16T18:31:42.145562Z",
     "start_time": "2025-01-16T18:21:49.935286Z"
    }
   },
   "cell_type": "code",
   "source": [
    "## Generate csv with mask information for defects in the subimages\n",
    "for idx in range(0, len(df)):\n",
    "    mask = rle_decode(df.iloc[idx]['EncodedPixels'], (height, width))\n",
    "    class_id = str(df.iloc[idx]['ClassId'])\n",
    "    image_id = str(df.iloc[idx]['ImageId'])[0:9]\n",
    "    file = read_path + image_id + '.jpg'\n",
    "    image = cv2.imread(file)\n",
    "    image_rgb = cv2.cvtColor(image, cv2.COLOR_BGR2RGB)\n",
    "    mask_rgb = cv2.cvtColor(mask, cv2.COLOR_BGR2RGB)\n",
    "    n_block = 1\n",
    "    for x in range(0, 1600, 256):\n",
    "        if n_block == 7:\n",
    "            mask_block = mask_rgb[:, -256:, :]\n",
    "        else:\n",
    "            mask_block = mask_rgb[:, x:x+256, :]\n",
    "        \n",
    "        mask_block = mask_block\n",
    "        if np.sum(mask_block) > 0:\n",
    "            new_entry = {'ImageId': image_id + f'_{n_block}' + '.png', 'ClassId': class_id, 'EncodedPixels': rle_encode(mask_block)}\n",
    "            new_df = pd.concat([new_df, pd.DataFrame([new_entry])], ignore_index=True)\n",
    "        n_block += 1  \n",
    "        \n"
   ],
   "id": "e4da799a46458371",
   "outputs": [],
   "execution_count": 8
  },
  {
   "metadata": {
    "ExecuteTime": {
     "end_time": "2025-01-16T18:31:49.467721Z",
     "start_time": "2025-01-16T18:31:49.464354Z"
    }
   },
   "cell_type": "code",
   "source": "len(new_df)",
   "id": "197389cdcdc88fb6",
   "outputs": [
    {
     "data": {
      "text/plain": [
       "18486"
      ]
     },
     "execution_count": 9,
     "metadata": {},
     "output_type": "execute_result"
    }
   ],
   "execution_count": 9
  },
  {
   "metadata": {
    "ExecuteTime": {
     "end_time": "2025-01-16T18:33:02.661424Z",
     "start_time": "2025-01-16T18:33:02.657833Z"
    }
   },
   "cell_type": "code",
   "source": [
    "def combine_rle(rle_series):\n",
    "    return ' '.join(rle_series)"
   ],
   "id": "af09027945712ca7",
   "outputs": [],
   "execution_count": 10
  },
  {
   "metadata": {
    "ExecuteTime": {
     "end_time": "2025-01-16T18:33:06.876593Z",
     "start_time": "2025-01-16T18:33:06.618759Z"
    }
   },
   "cell_type": "code",
   "source": "df_combined = new_df.groupby(['ImageId', 'ClassId'], as_index=False).agg({'EncodedPixels': combine_rle})",
   "id": "9295170b91e27bf9",
   "outputs": [],
   "execution_count": 11
  },
  {
   "metadata": {
    "ExecuteTime": {
     "end_time": "2025-01-16T18:33:08.661264Z",
     "start_time": "2025-01-16T18:33:08.657071Z"
    }
   },
   "cell_type": "code",
   "source": "len(df_combined)",
   "id": "ae478285da0e46c3",
   "outputs": [
    {
     "data": {
      "text/plain": [
       "18486"
      ]
     },
     "execution_count": 12,
     "metadata": {},
     "output_type": "execute_result"
    }
   ],
   "execution_count": 12
  },
  {
   "metadata": {
    "ExecuteTime": {
     "end_time": "2025-01-16T18:33:10.733525Z",
     "start_time": "2025-01-16T18:33:09.647716Z"
    }
   },
   "cell_type": "code",
   "source": "df_combined.to_csv('/home/eas/Enol/pycharm_projects/clipseg_steel_defect/Severstal/subimages.csv')",
   "id": "d726ade45ef1e4b9",
   "outputs": [],
   "execution_count": 13
  },
  {
   "metadata": {},
   "cell_type": "code",
   "outputs": [],
   "execution_count": null,
   "source": "",
   "id": "44c8c8e4fd315e98"
  }
 ],
 "metadata": {
  "kernelspec": {
   "display_name": "Python 3",
   "language": "python",
   "name": "python3"
  },
  "language_info": {
   "codemirror_mode": {
    "name": "ipython",
    "version": 2
   },
   "file_extension": ".py",
   "mimetype": "text/x-python",
   "name": "python",
   "nbconvert_exporter": "python",
   "pygments_lexer": "ipython2",
   "version": "2.7.6"
  }
 },
 "nbformat": 4,
 "nbformat_minor": 5
}
