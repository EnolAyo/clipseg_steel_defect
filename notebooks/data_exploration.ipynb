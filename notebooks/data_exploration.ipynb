{
 "cells": [
  {
   "cell_type": "code",
   "id": "initial_id",
   "metadata": {
    "collapsed": true,
    "ExecuteTime": {
     "end_time": "2024-11-14T10:46:26.848157Z",
     "start_time": "2024-11-14T10:46:26.841479Z"
    }
   },
   "source": [
    "from Severstal.severstal_coco import DatasetCOCO\n",
    "from torchvision import transforms\n",
    "from models.clipseg import CLIPDensePredT\n",
    "import torch"
   ],
   "outputs": [],
   "execution_count": 5
  },
  {
   "metadata": {
    "ExecuteTime": {
     "end_time": "2024-11-14T10:46:30.164694Z",
     "start_time": "2024-11-14T10:46:26.857666Z"
    }
   },
   "cell_type": "code",
   "source": [
    "data_path = '/home/eas/Enol/pycharm_projects/clipseg_steel_defect/Severstal/train_subimages'\n",
    "weights = '/home/eas/Enol/pycharm_projects/clipseg_steel_defect/logs/rd64-7K-vit16-cbh-coco-enol-5classes_no_neg/weights.pth'\n",
    "mean = [0.34388125, 0.34388125, 0.34388125]\n",
    "std = [0.13965334, 0.13965334, 0.13965334]\n",
    "image_size = 256\n",
    "transform = transforms.Compose([\n",
    "    transforms.Resize((image_size, image_size)),\n",
    "    transforms.ToTensor(),\n",
    "    transforms.Normalize(mean, std)\n",
    "])\n",
    "COCO_CLASSES = {1: 'network of fine, hairline cracks or fissures on the surface of the steel',\n",
    "                2: 'scale—oxides embedded into the steel plate',\n",
    "                3: 'shallow, narrow grooves or lines on the surface of the steel',\n",
    "                4: 'impurity or foreign material embedded within the steel matrix',\n",
    "                5: 'defects on a steel plate'}\n",
    "model = CLIPDensePredT(version='ViT-B/16', reduce_dim=64)\n",
    "model.load_state_dict(torch.load(weights, map_location=torch.device('cpu')), strict=False)\n",
    "split = 'train'"
   ],
   "id": "e991117d3d4d67b6",
   "outputs": [
    {
     "name": "stderr",
     "output_type": "stream",
     "text": [
      "/tmp/ipykernel_7543/1880640166.py:17: FutureWarning: You are using `torch.load` with `weights_only=False` (the current default value), which uses the default pickle module implicitly. It is possible to construct malicious pickle data which will execute arbitrary code during unpickling (See https://github.com/pytorch/pytorch/blob/main/SECURITY.md#untrusted-models for more details). In a future release, the default value for `weights_only` will be flipped to `True`. This limits the functions that could be executed during unpickling. Arbitrary objects will no longer be allowed to be loaded via this mode unless they are explicitly allowlisted by the user via `torch.serialization.add_safe_globals`. We recommend you start setting `weights_only=True` for any use case where you don't have full control of the loaded file. Please open an issue on GitHub for any issues related to this experimental feature.\n",
      "  model.load_state_dict(torch.load(weights, map_location=torch.device('cpu')), strict=False)\n"
     ]
    }
   ],
   "execution_count": 6
  },
  {
   "metadata": {
    "ExecuteTime": {
     "end_time": "2024-11-14T10:46:30.944263Z",
     "start_time": "2024-11-14T10:46:30.177220Z"
    }
   },
   "cell_type": "code",
   "source": "coco_dataset = DatasetCOCO(data_path, transform, split, True)",
   "id": "974dcdf11647dd43",
   "outputs": [
    {
     "name": "stdout",
     "output_type": "stream",
     "text": [
      "loading annotations into memory...\n",
      "Done (t=0.54s)\n",
      "creating index...\n",
      "index created!\n"
     ]
    }
   ],
   "execution_count": 7
  }
 ],
 "metadata": {
  "kernelspec": {
   "display_name": "Python 3",
   "language": "python",
   "name": "python3"
  },
  "language_info": {
   "codemirror_mode": {
    "name": "ipython",
    "version": 2
   },
   "file_extension": ".py",
   "mimetype": "text/x-python",
   "name": "python",
   "nbconvert_exporter": "python",
   "pygments_lexer": "ipython2",
   "version": "2.7.6"
  }
 },
 "nbformat": 4,
 "nbformat_minor": 5
}
