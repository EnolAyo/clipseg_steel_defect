{
 "cells": [
  {
   "cell_type": "code",
   "id": "initial_id",
   "metadata": {
    "collapsed": true,
    "ExecuteTime": {
     "end_time": "2024-11-21T14:10:14.828273Z",
     "start_time": "2024-11-21T14:10:12.384320Z"
    }
   },
   "source": [
    "import pycocotools.mask as mask_util\n",
    "from datasets.severstal_coco import DatasetCOCO\n",
    "from torchvision import transforms\n",
    "\n",
    "from datasets.utils import blend_image_segmentation\n",
    "from models.clipseg import CLIPDensePredT\n",
    "import torch\n",
    "from PIL import Image\n",
    "import numpy as np\n",
    "import pandas as pd\n",
    "import os\n",
    "from tqdm import tqdm"
   ],
   "outputs": [],
   "execution_count": 1
  },
  {
   "metadata": {
    "ExecuteTime": {
     "end_time": "2024-11-21T14:10:18.756656Z",
     "start_time": "2024-11-21T14:10:14.832336Z"
    }
   },
   "cell_type": "code",
   "source": [
    "data_path = '/home/eas/Enol/pycharm_projects/clipseg_steel_defect/Severstal/train_subimages'\n",
    "weights = '/home/eas/Enol/pycharm_projects/clipseg_steel_defect/logs/rd64-7K-vit16-cbh-coco-enol-5classes_no_neg/weights.pth'\n",
    "mean = [0.34388125, 0.34388125, 0.34388125]\n",
    "std = [0.13965334, 0.13965334, 0.13965334]\n",
    "image_size = 256\n",
    "COCO_CLASSES = {1: 'network of fine, hairline cracks or fissures on the surface of the steel',\n",
    "                2: 'scale—oxides embedded into the steel plate',\n",
    "                3: 'shallow, narrow grooves or lines on the surface of the steel',\n",
    "                4: 'impurity or foreign material embedded within the steel matrix',\n",
    "                5: 'defects on a steel plate'}\n",
    "transform = transforms.Compose([\n",
    "    transforms.Resize((image_size, image_size)),\n",
    "    transforms.ToTensor(),\n",
    "    transforms.Normalize(mean, std)\n",
    "])\n",
    "COCO_CLASSES = {1: 'network of fine, hairline cracks or fissures on the surface of the steel',\n",
    "                2: 'scale—oxides embedded into the steel plate',\n",
    "                3: 'shallow, narrow grooves or lines on the surface of the steel',\n",
    "                4: 'impurity or foreign material embedded within the steel matrix',\n",
    "                5: 'defects on a steel plate'}\n",
    "model = CLIPDensePredT(version='ViT-B/16', reduce_dim=64)\n",
    "model.load_state_dict(torch.load(weights, weights_only=True, map_location=torch.device('cpu')), strict=False)\n",
    "model.cuda()\n",
    "model.eval()\n",
    "split = 'train'"
   ],
   "id": "e991117d3d4d67b6",
   "outputs": [],
   "execution_count": 2
  },
  {
   "metadata": {
    "ExecuteTime": {
     "end_time": "2024-11-21T14:10:18.808292Z",
     "start_time": "2024-11-21T14:10:18.803577Z"
    }
   },
   "cell_type": "code",
   "source": [
    "df_queries = pd.DataFrame(columns = ['class_id', 'embedding'])\n",
    "df_text_support = pd.DataFrame(columns = ['class_id', 'embedding'])\n",
    "df_visual_support = pd.DataFrame(columns = ['class_id', 'embedding'])"
   ],
   "id": "52f5fefe0a50038d",
   "outputs": [],
   "execution_count": 3
  },
  {
   "metadata": {
    "ExecuteTime": {
     "end_time": "2024-11-21T14:10:19.511883Z",
     "start_time": "2024-11-21T14:10:18.851945Z"
    }
   },
   "cell_type": "code",
   "source": "coco_dataset = DatasetCOCO(data_path, transform, split, True)",
   "id": "974dcdf11647dd43",
   "outputs": [
    {
     "name": "stdout",
     "output_type": "stream",
     "text": [
      "loading annotations into memory...\n",
      "Done (t=0.54s)\n",
      "creating index...\n",
      "index created!\n"
     ]
    }
   ],
   "execution_count": 4
  },
  {
   "metadata": {
    "ExecuteTime": {
     "end_time": "2024-11-21T14:10:19.525992Z",
     "start_time": "2024-11-21T14:10:19.523384Z"
    }
   },
   "cell_type": "code",
   "source": [
    "class_ids = coco_dataset.ids_by_class\n",
    "metadata = coco_dataset.img_metadata"
   ],
   "id": "30157ba9dfe5581f",
   "outputs": [],
   "execution_count": 5
  },
  {
   "metadata": {
    "ExecuteTime": {
     "end_time": "2024-11-21T14:31:15.952445Z",
     "start_time": "2024-11-21T14:10:19.572622Z"
    }
   },
   "cell_type": "code",
   "source": [
    "idx = 0\n",
    "for i in class_ids:\n",
    "    class_id = i\n",
    "    text_support = COCO_CLASSES[class_id]\n",
    "    text_cond = model.compute_conditional([text_support])\n",
    "    df_text_support.loc[i] = [class_id, text_cond.squeeze(0).cpu().numpy().tolist()]\n",
    "    for id in tqdm(class_ids[class_id]):\n",
    "        ann = metadata.loadAnns(ids=id)[0]\n",
    "        image = Image.open(os.path.join(data_path, ann['image_id']))\n",
    "        q = transform(image).unsqueeze(0)\n",
    "        q = q.cuda()\n",
    "        visual_q, _, _ = model.visual_forward(q)\n",
    "        df_queries.loc[idx] = [class_id, visual_q.squeeze(0).cpu().numpy().tolist()]\n",
    "        if class_id != 5:\n",
    "            mask = mask_util.decode(ann['segmentation'])\n",
    "            s = transform(image)\n",
    "            s_blend = blend_image_segmentation(s, mask, mode='crop_blur_highlight256', image_size=256)\n",
    "            s_tensor = torch.Tensor(s_blend[0]).unsqueeze(0).cuda()\n",
    "            visual_s_cond, _, _ = model.visual_forward(s_tensor)\n",
    "            df_visual_support.loc[idx] = [class_id, visual_s_cond.squeeze(0).cpu().numpy().tolist()]\n",
    "        idx += 1\n"
   ],
   "id": "e5dd3f6f7f11f9ad",
   "outputs": [
    {
     "name": "stderr",
     "output_type": "stream",
     "text": [
      "100%|██████████| 1296/1296 [00:40<00:00, 32.06it/s]\n",
      "100%|██████████| 251/251 [00:07<00:00, 33.39it/s]\n",
      "100%|██████████| 9846/9846 [05:12<00:00, 31.49it/s]\n",
      "100%|██████████| 1596/1596 [00:52<00:00, 30.18it/s]\n",
      "100%|██████████| 48985/48985 [14:02<00:00, 58.14it/s]\n"
     ]
    }
   ],
   "execution_count": 6
  },
  {
   "metadata": {
    "ExecuteTime": {
     "end_time": "2024-11-21T14:31:48.918978Z",
     "start_time": "2024-11-21T14:31:16.089831Z"
    }
   },
   "cell_type": "code",
   "source": [
    "df_queries.to_csv('../Severstal/train_embeddings.csv')\n",
    "df_text_support.to_csv('../Severstal/text_embeddings.csv')\n",
    "df_visual_support.to_csv('../Severstal/visual_support_embeddings.csv')"
   ],
   "id": "f04e290d28944a86",
   "outputs": [],
   "execution_count": 7
  },
  {
   "metadata": {
    "ExecuteTime": {
     "end_time": "2024-11-21T14:31:49.001423Z",
     "start_time": "2024-11-21T14:31:48.999274Z"
    }
   },
   "cell_type": "code",
   "source": "",
   "id": "133ddb966b4c8d79",
   "outputs": [],
   "execution_count": null
  },
  {
   "metadata": {
    "ExecuteTime": {
     "end_time": "2024-11-21T14:31:49.069564Z",
     "start_time": "2024-11-21T14:31:49.067618Z"
    }
   },
   "cell_type": "code",
   "source": "",
   "id": "9bc7aaf7e889f00d",
   "outputs": [],
   "execution_count": null
  },
  {
   "metadata": {
    "ExecuteTime": {
     "end_time": "2024-11-21T14:31:49.137049Z",
     "start_time": "2024-11-21T14:31:49.135131Z"
    }
   },
   "cell_type": "code",
   "source": "",
   "id": "b7be781f326a0a63",
   "outputs": [],
   "execution_count": null
  }
 ],
 "metadata": {
  "kernelspec": {
   "display_name": "Python 3",
   "language": "python",
   "name": "python3"
  },
  "language_info": {
   "codemirror_mode": {
    "name": "ipython",
    "version": 2
   },
   "file_extension": ".py",
   "mimetype": "text/x-python",
   "name": "python",
   "nbconvert_exporter": "python",
   "pygments_lexer": "ipython2",
   "version": "2.7.6"
  }
 },
 "nbformat": 4,
 "nbformat_minor": 5
}
