{
 "cells": [
  {
   "cell_type": "code",
   "id": "initial_id",
   "metadata": {
    "collapsed": true,
    "ExecuteTime": {
     "end_time": "2024-10-29T15:37:57.999888Z",
     "start_time": "2024-10-29T15:31:58.779520Z"
    }
   },
   "source": [
    "import os\n",
    "import numpy as np\n",
    "from PIL import Image\n",
    "\n",
    "def compute_mean_std(image_path):\n",
    "    \"\"\"Compute the mean and standard deviation for each channel of an image.\"\"\"\n",
    "    image = Image.open(image_path).convert('RGB')  # Ensure image is in RGB mode\n",
    "    image_array = np.array(image) / 255\n",
    "    \n",
    "    # Calculate mean and std for each channel\n",
    "    mean = np.mean(image_array, axis=(0, 1))  # Mean for each channel\n",
    "    std = np.std(image_array, axis=(0, 1))    # Std for each channel\n",
    "    \n",
    "    return mean, std\n",
    "\n",
    "def process_images_in_directory(directory_path):\n",
    "    \"\"\"Process all images in the specified directory and compute mean and std for each channel.\"\"\"\n",
    "    channel_means = []\n",
    "    channel_stds = []\n",
    "    \n",
    "    for filename in os.listdir(directory_path):\n",
    "        if filename.lower().endswith(('.png', '.jpg', '.jpeg', '.bmp', '.gif')):\n",
    "            image_path = os.path.join(directory_path, filename)\n",
    "            mean, std = compute_mean_std(image_path)\n",
    "            channel_means.append(mean)\n",
    "            channel_stds.append(std)\n",
    "    \n",
    "    # Calculate overall mean and std across all images\n",
    "    overall_mean = np.mean(channel_means, axis=0)\n",
    "    overall_std = np.mean(channel_stds, axis=0)\n",
    "    \n",
    "    return overall_mean, overall_std\n",
    "\n",
    "# Specify the path to your images directory\n",
    "images_directory = '/home/eas/Enol/pycharm_projects/clipseg_steel_defect/Severstal/train_images'  # Change this to your image directory\n",
    "\n",
    "mean, std = process_images_in_directory(images_directory)\n",
    "print(f'Overall Mean (R, G, B): {mean}')\n",
    "print(f'Overall Std (R, G, B): {std}')\n"
   ],
   "outputs": [
    {
     "name": "stdout",
     "output_type": "stream",
     "text": [
      "Overall Mean (R, G, B): [0.34388125 0.34388125 0.34388125]\n",
      "Overall Std (R, G, B): [0.13965334 0.13965334 0.13965334]\n"
     ]
    }
   ],
   "execution_count": 2
  }
 ],
 "metadata": {
  "kernelspec": {
   "display_name": "Python 3",
   "language": "python",
   "name": "python3"
  },
  "language_info": {
   "codemirror_mode": {
    "name": "ipython",
    "version": 2
   },
   "file_extension": ".py",
   "mimetype": "text/x-python",
   "name": "python",
   "nbconvert_exporter": "python",
   "pygments_lexer": "ipython2",
   "version": "2.7.6"
  }
 },
 "nbformat": 4,
 "nbformat_minor": 5
}
