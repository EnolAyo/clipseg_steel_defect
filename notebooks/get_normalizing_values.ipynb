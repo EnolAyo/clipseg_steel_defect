{
 "cells": [
  {
   "cell_type": "code",
   "id": "initial_id",
   "metadata": {
    "collapsed": true,
    "ExecuteTime": {
     "end_time": "2025-01-16T18:51:36.438315Z",
     "start_time": "2025-01-16T18:48:15.256170Z"
    }
   },
   "source": [
    "import os\n",
    "import numpy as np\n",
    "from PIL import Image\n",
    "\n",
    "def compute_mean_std(image_path):\n",
    "    \"\"\"Compute the mean and standard deviation for each channel of an image.\"\"\"\n",
    "    image = Image.open(image_path).convert('RGB')  # Ensure image is in RGB mode\n",
    "    image_array = np.array(image) / 255\n",
    "    \n",
    "    # Calculate mean and std for each channel\n",
    "    mean = np.mean(image_array, axis=(0, 1))  # Mean for each channel\n",
    "    std = np.std(image_array, axis=(0, 1))    # Std for each channel\n",
    "    \n",
    "    return mean, std\n",
    "\n",
    "def process_images_in_directory(directory_path):\n",
    "    \"\"\"Process all images in the specified directory and compute mean and std for each channel.\"\"\"\n",
    "    channel_means = []\n",
    "    channel_stds = []\n",
    "    \n",
    "    for filename in os.listdir(directory_path):\n",
    "        if filename.lower().endswith(('.png', '.jpg', '.jpeg', '.bmp', '.gif')):\n",
    "            image_path = os.path.join(directory_path, filename)\n",
    "            mean, std = compute_mean_std(image_path)\n",
    "            channel_means.append(mean)\n",
    "            channel_stds.append(std)\n",
    "    \n",
    "    # Calculate overall mean and std across all images\n",
    "    overall_mean = np.mean(channel_means, axis=0)\n",
    "    overall_std = np.mean(channel_stds, axis=0)\n",
    "    \n",
    "    return overall_mean, overall_std\n",
    "\n",
    "# Specify the path to your images directory\n",
    "images_directory = '/home/eas/Enol/pycharm_projects/clipseg_steel_defect/Severstal/train_images'  # Change this to your image directory\n",
    "\n",
    "mean, std = process_images_in_directory(images_directory)\n",
    "print(f'Overall Mean (R, G, B): {mean}')\n",
    "print(f'Overall Std (R, G, B): {std}')\n"
   ],
   "outputs": [
    {
     "ename": "KeyboardInterrupt",
     "evalue": "",
     "output_type": "error",
     "traceback": [
      "\u001B[0;31m---------------------------------------------------------------------------\u001B[0m",
      "\u001B[0;31mKeyboardInterrupt\u001B[0m                         Traceback (most recent call last)",
      "Cell \u001B[0;32mIn[1], line 37\u001B[0m\n\u001B[1;32m     34\u001B[0m \u001B[38;5;66;03m# Specify the path to your images directory\u001B[39;00m\n\u001B[1;32m     35\u001B[0m images_directory \u001B[38;5;241m=\u001B[39m \u001B[38;5;124m'\u001B[39m\u001B[38;5;124m/home/eas/Enol/pycharm_projects/clipseg_steel_defect/Severstal/train_images\u001B[39m\u001B[38;5;124m'\u001B[39m  \u001B[38;5;66;03m# Change this to your image directory\u001B[39;00m\n\u001B[0;32m---> 37\u001B[0m mean, std \u001B[38;5;241m=\u001B[39m \u001B[43mprocess_images_in_directory\u001B[49m\u001B[43m(\u001B[49m\u001B[43mimages_directory\u001B[49m\u001B[43m)\u001B[49m\n\u001B[1;32m     38\u001B[0m \u001B[38;5;28mprint\u001B[39m(\u001B[38;5;124mf\u001B[39m\u001B[38;5;124m'\u001B[39m\u001B[38;5;124mOverall Mean (R, G, B): \u001B[39m\u001B[38;5;132;01m{\u001B[39;00mmean\u001B[38;5;132;01m}\u001B[39;00m\u001B[38;5;124m'\u001B[39m)\n\u001B[1;32m     39\u001B[0m \u001B[38;5;28mprint\u001B[39m(\u001B[38;5;124mf\u001B[39m\u001B[38;5;124m'\u001B[39m\u001B[38;5;124mOverall Std (R, G, B): \u001B[39m\u001B[38;5;132;01m{\u001B[39;00mstd\u001B[38;5;132;01m}\u001B[39;00m\u001B[38;5;124m'\u001B[39m)\n",
      "Cell \u001B[0;32mIn[1], line 24\u001B[0m, in \u001B[0;36mprocess_images_in_directory\u001B[0;34m(directory_path)\u001B[0m\n\u001B[1;32m     22\u001B[0m \u001B[38;5;28;01mif\u001B[39;00m filename\u001B[38;5;241m.\u001B[39mlower()\u001B[38;5;241m.\u001B[39mendswith((\u001B[38;5;124m'\u001B[39m\u001B[38;5;124m.png\u001B[39m\u001B[38;5;124m'\u001B[39m, \u001B[38;5;124m'\u001B[39m\u001B[38;5;124m.jpg\u001B[39m\u001B[38;5;124m'\u001B[39m, \u001B[38;5;124m'\u001B[39m\u001B[38;5;124m.jpeg\u001B[39m\u001B[38;5;124m'\u001B[39m, \u001B[38;5;124m'\u001B[39m\u001B[38;5;124m.bmp\u001B[39m\u001B[38;5;124m'\u001B[39m, \u001B[38;5;124m'\u001B[39m\u001B[38;5;124m.gif\u001B[39m\u001B[38;5;124m'\u001B[39m)):\n\u001B[1;32m     23\u001B[0m     image_path \u001B[38;5;241m=\u001B[39m os\u001B[38;5;241m.\u001B[39mpath\u001B[38;5;241m.\u001B[39mjoin(directory_path, filename)\n\u001B[0;32m---> 24\u001B[0m     mean, std \u001B[38;5;241m=\u001B[39m \u001B[43mcompute_mean_std\u001B[49m\u001B[43m(\u001B[49m\u001B[43mimage_path\u001B[49m\u001B[43m)\u001B[49m\n\u001B[1;32m     25\u001B[0m     channel_means\u001B[38;5;241m.\u001B[39mappend(mean)\n\u001B[1;32m     26\u001B[0m     channel_stds\u001B[38;5;241m.\u001B[39mappend(std)\n",
      "Cell \u001B[0;32mIn[1], line 11\u001B[0m, in \u001B[0;36mcompute_mean_std\u001B[0;34m(image_path)\u001B[0m\n\u001B[1;32m      8\u001B[0m image_array \u001B[38;5;241m=\u001B[39m np\u001B[38;5;241m.\u001B[39marray(image) \u001B[38;5;241m/\u001B[39m \u001B[38;5;241m255\u001B[39m\n\u001B[1;32m     10\u001B[0m \u001B[38;5;66;03m# Calculate mean and std for each channel\u001B[39;00m\n\u001B[0;32m---> 11\u001B[0m mean \u001B[38;5;241m=\u001B[39m \u001B[43mnp\u001B[49m\u001B[38;5;241;43m.\u001B[39;49m\u001B[43mmean\u001B[49m\u001B[43m(\u001B[49m\u001B[43mimage_array\u001B[49m\u001B[43m,\u001B[49m\u001B[43m \u001B[49m\u001B[43maxis\u001B[49m\u001B[38;5;241;43m=\u001B[39;49m\u001B[43m(\u001B[49m\u001B[38;5;241;43m0\u001B[39;49m\u001B[43m,\u001B[49m\u001B[43m \u001B[49m\u001B[38;5;241;43m1\u001B[39;49m\u001B[43m)\u001B[49m\u001B[43m)\u001B[49m  \u001B[38;5;66;03m# Mean for each channel\u001B[39;00m\n\u001B[1;32m     12\u001B[0m std \u001B[38;5;241m=\u001B[39m np\u001B[38;5;241m.\u001B[39mstd(image_array, axis\u001B[38;5;241m=\u001B[39m(\u001B[38;5;241m0\u001B[39m, \u001B[38;5;241m1\u001B[39m))    \u001B[38;5;66;03m# Std for each channel\u001B[39;00m\n\u001B[1;32m     14\u001B[0m \u001B[38;5;28;01mreturn\u001B[39;00m mean, std\n",
      "File \u001B[0;32m~/miniconda3/envs/clipseg/lib/python3.10/site-packages/numpy/_core/fromnumeric.py:3471\u001B[0m, in \u001B[0;36m_mean_dispatcher\u001B[0;34m(a, axis, dtype, out, keepdims, where)\u001B[0m\n\u001B[1;32m   3456\u001B[0m \u001B[38;5;250m    \u001B[39m\u001B[38;5;124;03m\"\"\"\u001B[39;00m\n\u001B[1;32m   3457\u001B[0m \u001B[38;5;124;03m    Round an array to the given number of decimals.\u001B[39;00m\n\u001B[1;32m   3458\u001B[0m \n\u001B[0;32m   (...)\u001B[0m\n\u001B[1;32m   3466\u001B[0m \n\u001B[1;32m   3467\u001B[0m \u001B[38;5;124;03m    \"\"\"\u001B[39;00m\n\u001B[1;32m   3468\u001B[0m     \u001B[38;5;28;01mreturn\u001B[39;00m _wrapfunc(a, \u001B[38;5;124m'\u001B[39m\u001B[38;5;124mround\u001B[39m\u001B[38;5;124m'\u001B[39m, decimals\u001B[38;5;241m=\u001B[39mdecimals, out\u001B[38;5;241m=\u001B[39mout)\n\u001B[0;32m-> 3471\u001B[0m \u001B[38;5;28;01mdef\u001B[39;00m \u001B[38;5;21m_mean_dispatcher\u001B[39m(a, axis\u001B[38;5;241m=\u001B[39m\u001B[38;5;28;01mNone\u001B[39;00m, dtype\u001B[38;5;241m=\u001B[39m\u001B[38;5;28;01mNone\u001B[39;00m, out\u001B[38;5;241m=\u001B[39m\u001B[38;5;28;01mNone\u001B[39;00m, keepdims\u001B[38;5;241m=\u001B[39m\u001B[38;5;28;01mNone\u001B[39;00m, \u001B[38;5;241m*\u001B[39m,\n\u001B[1;32m   3472\u001B[0m                      where\u001B[38;5;241m=\u001B[39m\u001B[38;5;28;01mNone\u001B[39;00m):\n\u001B[1;32m   3473\u001B[0m     \u001B[38;5;28;01mreturn\u001B[39;00m (a, where, out)\n\u001B[1;32m   3476\u001B[0m \u001B[38;5;129m@array_function_dispatch\u001B[39m(_mean_dispatcher)\n\u001B[1;32m   3477\u001B[0m \u001B[38;5;28;01mdef\u001B[39;00m \u001B[38;5;21mmean\u001B[39m(a, axis\u001B[38;5;241m=\u001B[39m\u001B[38;5;28;01mNone\u001B[39;00m, dtype\u001B[38;5;241m=\u001B[39m\u001B[38;5;28;01mNone\u001B[39;00m, out\u001B[38;5;241m=\u001B[39m\u001B[38;5;28;01mNone\u001B[39;00m, keepdims\u001B[38;5;241m=\u001B[39mnp\u001B[38;5;241m.\u001B[39m_NoValue, \u001B[38;5;241m*\u001B[39m,\n\u001B[1;32m   3478\u001B[0m          where\u001B[38;5;241m=\u001B[39mnp\u001B[38;5;241m.\u001B[39m_NoValue):\n",
      "\u001B[0;31mKeyboardInterrupt\u001B[0m: "
     ]
    }
   ],
   "execution_count": 1
  }
 ],
 "metadata": {
  "kernelspec": {
   "display_name": "Python 3",
   "language": "python",
   "name": "python3"
  },
  "language_info": {
   "codemirror_mode": {
    "name": "ipython",
    "version": 2
   },
   "file_extension": ".py",
   "mimetype": "text/x-python",
   "name": "python",
   "nbconvert_exporter": "python",
   "pygments_lexer": "ipython2",
   "version": "2.7.6"
  }
 },
 "nbformat": 4,
 "nbformat_minor": 5
}
